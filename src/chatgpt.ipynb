{
 "cells": [
  {
   "cell_type": "code",
   "execution_count": 1,
   "metadata": {},
   "outputs": [
    {
     "name": "stdout",
     "output_type": "stream",
     "text": [
      "recycling\n"
     ]
    }
   ],
   "source": [
    "import openai\n",
    "from keys import *\n",
    "\n",
    "openai.api_key = api_key_openai\n",
    "openai.api_base = api_base_openai # your endpoint should look like the following https://YOUR_RESOURCE_NAME.openai.azure.com/\n",
    "openai.api_type = 'azure'\n",
    "openai.api_version = '2023-05-15' # this may change in the future\n",
    "\n",
    "deployment_name='openai-gpt35' #This will correspond to the custom name you chose for your deployment when you deployed a model. \n",
    "\n",
    "# Send a completion call to generate an answer\n",
    "role = {\"role\": \"system\", \"content\": \"You are an AI assistant that helps people classify garbage into appropriate bins: landfill trash, recyclable, compost, or special processing facility. The prompts will be in the form 'How should I throw out <insert object name>?' Your response should only contain the category name with no punctuation. If the item should be sent to a specific facility for processing, respond in only the name of the facility.\"}\n",
    "q1 = {\"role\": \"user\", \"content\": \"how should i throw out an empty can?\"}\n",
    "a1 = {\"role\": \"assistant\", \"content\": \"recycling\"}\n",
    "q2 = {\"role\": \"user\", \"content\": \"how should i throw out a pizza box?\"}\n",
    "a2 = {\"role\": \"assistant\", \"content\": \"compost\"}\n",
    "q3 = {\"role\": \"user\", \"content\": \"how should i throw out a paper bag?\"}\n",
    "a3 = {\"role\": \"assistant\", \"content\": \"recycling\"}\n",
    "\n",
    "user_input = input(\"Enter item name:\")\n",
    "user_q = {\"role\": \"user\", \"content\": \"how should i throw out {}?\".format(user_input)}\n",
    "\n",
    "response = openai.ChatCompletion.create(\n",
    "    engine=deployment_name,\n",
    "    messages=[\n",
    "        role,\n",
    "        q1, a1,\n",
    "        q2, a2,\n",
    "        q3, a3,\n",
    "        user_q\n",
    "    ]\n",
    ")\n",
    "\n",
    "answer = response['choices'][0]['message']['content']\n",
    "print(answer)\n",
    "\n",
    "def getCategory():\n",
    "    return answer"
   ]
  },
  {
   "cell_type": "code",
   "execution_count": null,
   "metadata": {},
   "outputs": [],
   "source": []
  }
 ],
 "metadata": {
  "kernelspec": {
   "display_name": "Python 3",
   "language": "python",
   "name": "python3"
  },
  "language_info": {
   "codemirror_mode": {
    "name": "ipython",
    "version": 3
   },
   "file_extension": ".py",
   "mimetype": "text/x-python",
   "name": "python",
   "nbconvert_exporter": "python",
   "pygments_lexer": "ipython3",
   "version": "3.11.3"
  },
  "orig_nbformat": 4
 },
 "nbformat": 4,
 "nbformat_minor": 2
}
